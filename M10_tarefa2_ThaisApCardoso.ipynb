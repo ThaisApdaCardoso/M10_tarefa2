{
  "cells": [
    {
      "cell_type": "markdown",
      "metadata": {
        "id": "2mgMpDXUlVar"
      },
      "source": [
        "# Módulo 10 tarefa 2\n",
        "\n",
        "Considere a mesma base de dados utilizada na tarefa 1 ```previsao_de_renda.csv```."
      ]
    },
    {
      "cell_type": "markdown",
      "metadata": {
        "id": "FhYzOzMklVaz"
      },
      "source": [
        "1) Com o que você viu em aula, faça uma análise das variáveis qualitativas (posse de imóvel e posse de veículo) para verificar se são boas preditoras de *renda*. Alguma delas parece discriminar *renda* de forma estatisticamente significante?"
      ]
    },
    {
      "cell_type": "code",
      "source": [
        "import pandas as pd\n",
        "import scipy.stats as stats"
      ],
      "metadata": {
        "id": "GmKwRDnV6pvE"
      },
      "execution_count": 1,
      "outputs": []
    },
    {
      "cell_type": "code",
      "source": [
        "arquivo = 'previsao_de_renda.csv'\n",
        "dados = pd.read_csv(arquivo)"
      ],
      "metadata": {
        "id": "5Bi7-uU36pdg"
      },
      "execution_count": 2,
      "outputs": []
    },
    {
      "cell_type": "code",
      "execution_count": 3,
      "metadata": {
        "colab": {
          "base_uri": "https://localhost:8080/"
        },
        "id": "EqHI3fjmlVa1",
        "outputId": "f2b7ccb6-e4b9-4b0a-d50d-185dfa85435a"
      },
      "outputs": [
        {
          "output_type": "stream",
          "name": "stdout",
          "text": [
            "posse_de_imovel\n",
            "True     10082\n",
            "False     4918\n",
            "Name: count, dtype: int64\n",
            "posse_de_veiculo\n",
            "False    9167\n",
            "True     5833\n",
            "Name: count, dtype: int64\n"
          ]
        }
      ],
      "source": [
        "# Verificando as variáveis qualitativas (Ver a distribuição de quem tem ou não tem imóvel e veículo)\n",
        "print(dados['posse_de_imovel'].value_counts())\n",
        "print(dados['posse_de_veiculo'].value_counts())"
      ]
    },
    {
      "cell_type": "code",
      "source": [
        "# Comparando as médias de renda entre quem tem e quem não tem imóvel\n",
        "media_renda_imovel = dados.groupby('posse_de_imovel')['renda'].mean()\n",
        "media_renda_veiculo = dados.groupby('posse_de_veiculo')['renda'].mean()\n",
        "\n",
        "print(\"\\nMédia de renda por posse de imóvel:\")\n",
        "print(media_renda_imovel)\n",
        "\n",
        "print(\"\\nMédia de renda por posse de veículo:\")\n",
        "print(media_renda_veiculo)"
      ],
      "metadata": {
        "colab": {
          "base_uri": "https://localhost:8080/"
        },
        "id": "vm83mOIq8cpp",
        "outputId": "bf90dee7-3f07-405c-e99a-75bdc009c335"
      },
      "execution_count": 4,
      "outputs": [
        {
          "output_type": "stream",
          "name": "stdout",
          "text": [
            "\n",
            "Média de renda por posse de imóvel:\n",
            "posse_de_imovel\n",
            "False    4426.970482\n",
            "True     4721.052704\n",
            "Name: renda, dtype: float64\n",
            "\n",
            "Média de renda por posse de veículo:\n",
            "posse_de_veiculo\n",
            "False    4390.506963\n",
            "True     4992.579609\n",
            "Name: renda, dtype: float64\n"
          ]
        }
      ]
    },
    {
      "cell_type": "code",
      "source": [
        "# Realizando um teste t para ver se as diferenças são significativas\n",
        "t_test_imovel = stats.ttest_ind(dados[dados['posse_de_imovel'] == 1]['renda'],\n",
        "                                dados[dados['posse_de_imovel'] == 0]['renda'])\n",
        "\n",
        "t_test_veiculo = stats.ttest_ind(dados[dados['posse_de_veiculo'] == 1]['renda'],\n",
        "                                 dados[dados['posse_de_veiculo'] == 0]['renda'])\n",
        "\n",
        "print(\"\\nTeste t para posse de imóvel:\", t_test_imovel)\n",
        "print(\"Teste t para posse de veículo:\", t_test_veiculo)"
      ],
      "metadata": {
        "colab": {
          "base_uri": "https://localhost:8080/"
        },
        "id": "ghd7CLWd8cGe",
        "outputId": "68c1ec46-0e38-487c-c9af-be3d89d1edf6"
      },
      "execution_count": 5,
      "outputs": [
        {
          "output_type": "stream",
          "name": "stdout",
          "text": [
            "\n",
            "Teste t para posse de imóvel: TtestResult(statistic=3.6544544037866884, pvalue=0.0002586087928865693, df=14998.0)\n",
            "Teste t para posse de veículo: TtestResult(statistic=7.781733886565539, pvalue=7.618601898603797e-15, df=14998.0)\n"
          ]
        }
      ]
    },
    {
      "cell_type": "markdown",
      "source": [
        "**Distribuição de quem tem e quem não tem imóvel e veículo:**\n",
        "\n",
        "**Posse de imóvel:**\n",
        "\n",
        "Resultado do teste T:\n",
        "𝑡\n",
        "=\n",
        "3.65\n",
        "t=3.65,\n",
        "𝑝\n",
        "=\n",
        "0.00026\n",
        "p=0.00026\n",
        "\n",
        "Isso significa que a diferença entre a renda de quem tem e quem não tem imóvel é estatisticamente significativa.\n",
        "\n",
        "**Posse de veículo:**\n",
        "\n",
        "Resultado do teste T:\n",
        "𝑡\n",
        "=\n",
        "7.78\n",
        "t=7.78,\n",
        "𝑝\n",
        "<\n",
        "0.00001\n",
        "p<0.00001\n",
        "\n",
        "A diferença entre a renda de quem tem e quem não tem veículo é ainda mais significativa.\n",
        "\n",
        "**Conclusão:** Tanto a posse de imóvel quanto a posse de veículo são boas preditoras de renda, mas a posse de veículo parece discriminar a renda de forma mais forte, com uma diferença de renda maior e um resultado estatisticamente mais significativo."
      ],
      "metadata": {
        "id": "_cB04zG_YFCV"
      }
    }
  ],
  "metadata": {
    "kernelspec": {
      "display_name": "Python 3",
      "language": "python",
      "name": "python3"
    },
    "language_info": {
      "codemirror_mode": {
        "name": "ipython",
        "version": 3
      },
      "file_extension": ".py",
      "mimetype": "text/x-python",
      "name": "python",
      "nbconvert_exporter": "python",
      "pygments_lexer": "ipython3",
      "version": "3.8.5"
    },
    "colab": {
      "provenance": []
    }
  },
  "nbformat": 4,
  "nbformat_minor": 0
}